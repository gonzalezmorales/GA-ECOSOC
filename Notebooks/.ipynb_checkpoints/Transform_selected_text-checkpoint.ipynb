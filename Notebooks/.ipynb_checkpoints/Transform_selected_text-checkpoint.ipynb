{
 "cells": [
  {
   "cell_type": "code",
   "execution_count": 8,
   "id": "d2837775-949c-4c97-8934-59aec617b6dd",
   "metadata": {},
   "outputs": [],
   "source": [
    "import pandas as pd\n",
    "from dotenv import load_dotenv\n",
    "import os\n",
    "\n",
    "from openai import OpenAI\n",
    "\n",
    "client = OpenAI(\n",
    "  api_key=os.getenv('KEY'),  # this is also the default, it can be omitted\n",
    ")\n"
   ]
  },
  {
   "cell_type": "code",
   "execution_count": 9,
   "id": "cdc4ee45-3860-4ad6-9757-75c3ed34653e",
   "metadata": {},
   "outputs": [],
   "source": [
    "file_path = '../input/selected_paragraphs_concat.xlsx'\n"
   ]
  },
  {
   "cell_type": "code",
   "execution_count": 10,
   "id": "f28a3da1-7e64-4ba9-bf29-ec36b86bf2ea",
   "metadata": {},
   "outputs": [
    {
     "data": {
      "text/plain": [
       "'The General Assembly, in its resolution A/RES/77/16 of 25 November 2022 on Cooperation between the United Nations and the Commonwealth of Independent States, { Notes the activities of the Commonwealth of Independent States to strengthen regional cooperation in such areas as trade and economic development; exchange of statistical data and economic information; culture; education; health care; sports; tourism; science and innovation; environmental protection and response to natural and human-made disasters; combating organized crime, illicit trafficking in narcotic drugs, psychotropic substances and their precursors, terrorist acts, manifestations of extremism and illegal migration; and other related areas; }'"
      ]
     },
     "execution_count": 10,
     "metadata": {},
     "output_type": "execute_result"
    }
   ],
   "source": [
    "data = pd.read_excel(file_path, usecols=[0], header=None)[0].tolist()\n",
    "data[0]"
   ]
  },
  {
   "cell_type": "code",
   "execution_count": 11,
   "id": "7140201b-cae6-421d-9ee6-a269e42712a9",
   "metadata": {},
   "outputs": [
    {
     "data": {
      "text/plain": [
       "'Transform this text to past tense: The General Assembly, in its resolution A/RES/77/16 of 25 November 2022 on Cooperation between the United Nations and the Commonwealth of Independent States, { Notes the activities of the Commonwealth of Independent States to strengthen regional cooperation in such areas as trade and economic development; exchange of statistical data and economic information; culture; education; health care; sports; tourism; science and innovation; environmental protection and response to natural and human-made disasters; combating organized crime, illicit trafficking in narcotic drugs, psychotropic substances and their precursors, terrorist acts, manifestations of extremism and illegal migration; and other related areas; }'"
      ]
     },
     "execution_count": 11,
     "metadata": {},
     "output_type": "execute_result"
    }
   ],
   "source": [
    "text=f\"Transform this text to past tense: {data[0]}\"\n",
    "text"
   ]
  },
  {
   "cell_type": "code",
   "execution_count": 17,
   "id": "061b986f-5954-42e7-aed5-ab735d8ca6c0",
   "metadata": {},
   "outputs": [],
   "source": [
    "\n",
    "def to_past_tense(text):\n",
    "    completion = client.chat.completions.create(\n",
    "      model=\"gpt-3.5-turbo\",\n",
    "      messages=[\n",
    "        {\"role\": \"user\", \"content\": text}\n",
    "      ]\n",
    "    )\n",
    "\n",
    "    return completion.choices[0].message.content\n"
   ]
  },
  {
   "cell_type": "code",
   "execution_count": 18,
   "id": "d781389e-7244-42b6-b4d2-b8619c7e3ffc",
   "metadata": {},
   "outputs": [
    {
     "data": {
      "text/plain": [
       "'The General Assembly, in its resolution A/RES/77/16 of 25 November 2022 on Cooperation between the United Nations and the Commonwealth of Independent States, noted the activities of the Commonwealth of Independent States to strengthen regional cooperation in such areas as trade and economic development; exchange of statistical data and economic information; culture; education; health care; sports; tourism; science and innovation; environmental protection and response to natural and human-made disasters; combating organized crime, illicit trafficking in narcotic drugs, psychotropic substances and their precursors, terrorist acts, manifestations of extremism and illegal migration; and other related areas.'"
      ]
     },
     "execution_count": 18,
     "metadata": {},
     "output_type": "execute_result"
    }
   ],
   "source": [
    "to_past_tense(text)"
   ]
  },
  {
   "cell_type": "code",
   "execution_count": null,
   "id": "6c81e1d6-3ac1-47aa-903f-a6315de6a651",
   "metadata": {},
   "outputs": [
    {
     "name": "stdout",
     "output_type": "stream",
     "text": [
      "finished 1 of 510\n",
      "finished 2 of 510\n",
      "finished 3 of 510\n",
      "finished 4 of 510\n",
      "finished 5 of 510\n",
      "finished 6 of 510\n",
      "finished 7 of 510\n",
      "finished 8 of 510\n",
      "finished 9 of 510\n",
      "finished 10 of 510\n",
      "finished 11 of 510\n",
      "finished 12 of 510\n",
      "finished 13 of 510\n",
      "finished 14 of 510\n",
      "finished 15 of 510\n",
      "finished 16 of 510\n",
      "finished 17 of 510\n",
      "finished 18 of 510\n",
      "finished 19 of 510\n",
      "finished 20 of 510\n",
      "finished 21 of 510\n",
      "finished 22 of 510\n",
      "finished 23 of 510\n",
      "finished 24 of 510\n",
      "finished 25 of 510\n",
      "finished 26 of 510\n",
      "finished 27 of 510\n",
      "finished 28 of 510\n",
      "finished 29 of 510\n",
      "finished 30 of 510\n",
      "finished 31 of 510\n",
      "finished 32 of 510\n",
      "finished 33 of 510\n",
      "finished 34 of 510\n",
      "finished 35 of 510\n",
      "finished 36 of 510\n",
      "finished 37 of 510\n",
      "finished 38 of 510\n",
      "finished 39 of 510\n",
      "finished 40 of 510\n",
      "finished 41 of 510\n",
      "finished 42 of 510\n",
      "finished 43 of 510\n",
      "finished 44 of 510\n",
      "finished 45 of 510\n",
      "finished 46 of 510\n",
      "finished 47 of 510\n",
      "finished 48 of 510\n",
      "finished 49 of 510\n",
      "finished 50 of 510\n",
      "finished 51 of 510\n",
      "finished 52 of 510\n",
      "finished 53 of 510\n",
      "finished 54 of 510\n",
      "finished 55 of 510\n",
      "finished 56 of 510\n",
      "finished 57 of 510\n",
      "finished 58 of 510\n",
      "finished 59 of 510\n",
      "finished 60 of 510\n",
      "finished 61 of 510\n",
      "finished 62 of 510\n",
      "finished 63 of 510\n",
      "finished 64 of 510\n",
      "finished 65 of 510\n",
      "finished 66 of 510\n",
      "finished 67 of 510\n",
      "finished 68 of 510\n",
      "finished 69 of 510\n",
      "finished 70 of 510\n",
      "finished 71 of 510\n",
      "finished 72 of 510\n",
      "finished 73 of 510\n",
      "finished 74 of 510\n",
      "finished 75 of 510\n"
     ]
    }
   ],
   "source": [
    "processed_text = []\n",
    "\n",
    "for i, t in enumerate(data):\n",
    "   \n",
    "    text=f\"Transform this text to past tense: {data[i]}\"\n",
    "    processed_text.append(to_past_tense(text))\n",
    "    print(f\"finished {i+1} of {len(data)}\")"
   ]
  },
  {
   "cell_type": "code",
   "execution_count": null,
   "id": "50245d76-6c28-4c63-980c-6eb98e87d3d5",
   "metadata": {},
   "outputs": [],
   "source": []
  }
 ],
 "metadata": {
  "kernelspec": {
   "display_name": "Python 3 (ipykernel)",
   "language": "python",
   "name": "python3"
  },
  "language_info": {
   "codemirror_mode": {
    "name": "ipython",
    "version": 3
   },
   "file_extension": ".py",
   "mimetype": "text/x-python",
   "name": "python",
   "nbconvert_exporter": "python",
   "pygments_lexer": "ipython3",
   "version": "3.11.3"
  }
 },
 "nbformat": 4,
 "nbformat_minor": 5
}
